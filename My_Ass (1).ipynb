{
 "cells": [
  {
   "cell_type": "markdown",
   "metadata": {
    "collapsed": true
   },
   "source": [
    " # My Jupyter Notebook on IBM Watson Studio\n"
   ]
  },
  {
   "cell_type": "markdown",
   "metadata": {},
   "source": [
    "# AKOR PETER AMEH\n",
    "### Data Engineer"
   ]
  },
  {
   "cell_type": "markdown",
   "metadata": {},
   "source": [
    "##### I am interested in data science because data is the core of every innovation in the 21st century\n",
    "##### I want to build models to automate processes therefore i need to understand the science behind data"
   ]
  },
  {
   "cell_type": "markdown",
   "metadata": {},
   "source": [
    "### My code in cell 5 is a simple arithmetic"
   ]
  },
  {
   "cell_type": "code",
   "execution_count": 3,
   "metadata": {},
   "outputs": [
    {
     "name": "stdout",
     "output_type": "stream",
     "text": [
      "The result of the above expression is  6\n"
     ]
    }
   ],
   "source": [
    "a=3\n",
    "b=7\n",
    "c=10\n",
    "result = a + c - b\n",
    "print(\"The result of the above expression is \", result)"
   ]
  },
  {
   "attachments": {
    "download%20%281%29.jpg": {
     "image/jpeg": "[encoded data removed]"
    }
   },
   "cell_type": "markdown",
   "metadata": {},
   "source": [
    "  \n",
    "\n",
    "| Name   | Age    | Sex    |\n",
    "|--------|--------|--------|\n",
    "|Akor    |20      |male    |\n",
    "|John    |50      |male    |\n",
    "|cecy    |12      |female  |\n",
    "\n",
    "\n",
    "![download%20%281%29.jpg](attachment:download%20%281%29.jpg)\n",
    "\n",
    "<a href=\"https://dataplatform.cloud.ibm.com/gallery\">IBM Cloud Gallery</a>\n",
    "\n",
    "* love\n",
    "* grace\n",
    "- favor\n",
    "- peace\n",
    "\n",
    "1. bike\n",
    "2. car\n",
    "3. menu\n",
    "\n",
    "> Great Grace.\n",
    "> > Excess love\n",
    "\n",
    "```buter\n",
    "#press {\n",
    "    line: real;\n",
    "}\n",
    "```\n",
    "\n"
   ]
  },
  {
   "cell_type": "markdown",
   "metadata": {},
   "source": []
  },
  {
   "cell_type": "code",
   "execution_count": null,
   "metadata": {},
   "outputs": [],
   "source": []
  }
 ],
 "metadata": {
  "kernelspec": {
   "display_name": "Python 3.9",
   "language": "python",
   "name": "python3"
  },
  "language_info": {
   "codemirror_mode": {
    "name": "ipython",
    "version": 3
   },
   "file_extension": ".py",
   "mimetype": "text/x-python",
   "name": "python",
   "nbconvert_exporter": "python",
   "pygments_lexer": "ipython3",
   "version": "3.9.12"
  }
 },
 "nbformat": 4,
 "nbformat_minor": 1
}
